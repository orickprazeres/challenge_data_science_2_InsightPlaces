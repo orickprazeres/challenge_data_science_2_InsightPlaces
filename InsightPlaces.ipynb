{
  "cells": [
    {
      "cell_type": "markdown",
      "metadata": {
        "id": "6SsBU_z5o9gV"
      },
      "source": [
        "# InsightPlaces"
      ]
    },
    {
      "cell_type": "markdown",
      "metadata": {
        "id": "qq3cWxvSo9gX"
      },
      "source": [
        "A imobiliária `InsightPlaces`, situada na cidade do Rio de Janeiro, está enfrentando dificuldades para alugar e vender imóveis. Em uma pesquisa de como empresas semelhantes operam no mercado, a `InsightPlaces` percebeu que esse problema pode estar relacionado aos valores dos imóveis e às recomendações que faz.\n",
        "\n",
        "Perguntas a serem respondidas:\n",
        "* Como podemos definir de forma eficiente os preços dos imóveis lidando com grande volume de dados?\n",
        "* É importante recomendar imóveis utilizando outro critério?\n",
        "* O que precisa ser feito?"
      ]
    },
    {
      "cell_type": "markdown",
      "source": [
        "## Spark no Colab\n",
        "---"
      ],
      "metadata": {
        "id": "b5DVH1Euqh1L"
      }
    },
    {
      "cell_type": "code",
      "execution_count": 52,
      "metadata": {
        "id": "ngqIsOmeo9gY"
      },
      "outputs": [],
      "source": [
        "# instalar as dependências\n",
        "!apt-get update -qq\n",
        "!apt-get install openjdk-8-jdk-headless -qq > /dev/null\n",
        "!wget -q https://dlcdn.apache.org/spark/spark-3.3.1/spark-3.3.1-bin-hadoop3.tgz\n",
        "!tar xf spark-3.3.1-bin-hadoop3.tgz\n",
        "!pip install -q findspark"
      ]
    },
    {
      "cell_type": "code",
      "source": [
        "import os\n",
        "os.environ[\"JAVA_HOME\"] = \"/usr/lib/jvm/java-8-openjdk-amd64\"\n",
        "os.environ[\"SPARK_HOME\"] = \"/content/spark-3.3.1-bin-hadoop3\""
      ],
      "metadata": {
        "id": "CrKNe5StqXG0"
      },
      "execution_count": 53,
      "outputs": []
    },
    {
      "cell_type": "code",
      "source": [
        "import findspark\n",
        "findspark.init()"
      ],
      "metadata": {
        "id": "PEnz1suuqYvz"
      },
      "execution_count": 54,
      "outputs": []
    },
    {
      "cell_type": "markdown",
      "source": [
        "## Carregamento de Spark\n",
        "---"
      ],
      "metadata": {
        "id": "_JEu4Cuiqlgg"
      }
    },
    {
      "cell_type": "code",
      "source": [
        "from pyspark.sql import SparkSession\n",
        "\n",
        "spark = SparkSession.builder \\\n",
        "    .master('local[*]') \\\n",
        "    .appName(\"Iniciando com Spark\") \\\n",
        "    .config('spark.ui.port', '4050') \\\n",
        "    .getOrCreate()"
      ],
      "metadata": {
        "id": "EvYw903iqfMN"
      },
      "execution_count": 55,
      "outputs": []
    },
    {
      "cell_type": "code",
      "source": [
        "spark"
      ],
      "metadata": {
        "colab": {
          "base_uri": "https://localhost:8080/",
          "height": 219
        },
        "id": "oaquDi4BppNj",
        "outputId": "bdc5019c-52d4-4b6b-9370-7c85e4c988d4"
      },
      "execution_count": 56,
      "outputs": [
        {
          "output_type": "execute_result",
          "data": {
            "text/plain": [
              "<pyspark.sql.session.SparkSession at 0x7f4248dc31d0>"
            ],
            "text/html": [
              "\n",
              "            <div>\n",
              "                <p><b>SparkSession - in-memory</b></p>\n",
              "                \n",
              "        <div>\n",
              "            <p><b>SparkContext</b></p>\n",
              "\n",
              "            <p><a href=\"http://554af012046d:4050\">Spark UI</a></p>\n",
              "\n",
              "            <dl>\n",
              "              <dt>Version</dt>\n",
              "                <dd><code>v3.3.1</code></dd>\n",
              "              <dt>Master</dt>\n",
              "                <dd><code>local[*]</code></dd>\n",
              "              <dt>AppName</dt>\n",
              "                <dd><code>Iniciando com Spark</code></dd>\n",
              "            </dl>\n",
              "        </div>\n",
              "        \n",
              "            </div>\n",
              "        "
            ]
          },
          "metadata": {},
          "execution_count": 56
        }
      ]
    },
    {
      "cell_type": "markdown",
      "metadata": {
        "id": "3f6bwFADGlH6"
      },
      "source": [
        "### Carregando os dados das InsightPlaces\n"
      ]
    },
    {
      "cell_type": "code",
      "source": [
        "from google.colab import drive\n",
        "drive.mount('/content/drive')"
      ],
      "metadata": {
        "colab": {
          "base_uri": "https://localhost:8080/"
        },
        "id": "LURI9CCMpycK",
        "outputId": "7d05afe2-ecf2-47f1-f9e0-17e2ca93c441"
      },
      "execution_count": 57,
      "outputs": [
        {
          "output_type": "stream",
          "name": "stdout",
          "text": [
            "Drive already mounted at /content/drive; to attempt to forcibly remount, call drive.mount(\"/content/drive\", force_remount=True).\n"
          ]
        }
      ]
    },
    {
      "cell_type": "code",
      "source": [
        "'''# baixando o aquivo\n",
        "from urllib import request\n",
        "\n",
        "file_url = 'https://caelum-online-public.s3.amazonaws.com/challenge-spark/semana-1.zip'\n",
        "file = '/content/drive/MyDrive/InsightPlaces/dados/semana-1.zip'\n",
        "request.urlretrieve(file_url , file )'''"
      ],
      "metadata": {
        "colab": {
          "base_uri": "https://localhost:8080/",
          "height": 52
        },
        "id": "RP6CZMSeqg64",
        "outputId": "bdc23c77-2214-4a87-97f2-22269d4e6da4"
      },
      "execution_count": 58,
      "outputs": [
        {
          "output_type": "execute_result",
          "data": {
            "text/plain": [
              "\"# baixando o aquivo\\nfrom urllib import request\\n\\nfile_url = 'https://caelum-online-public.s3.amazonaws.com/challenge-spark/semana-1.zip'\\nfile = '/content/drive/MyDrive/InsightPlaces/dados/semana-1.zip'\\nrequest.urlretrieve(file_url , file )\""
            ],
            "application/vnd.google.colaboratory.intrinsic+json": {
              "type": "string"
            }
          },
          "metadata": {},
          "execution_count": 58
        }
      ]
    },
    {
      "cell_type": "code",
      "execution_count": 59,
      "metadata": {
        "id": "4RVsaljf8mus",
        "colab": {
          "base_uri": "https://localhost:8080/",
          "height": 52
        },
        "outputId": "6be53f56-601d-4d28-d709-267d21897787"
      },
      "outputs": [
        {
          "output_type": "execute_result",
          "data": {
            "text/plain": [
              "\"import zipfile\\n\\nzipfile.ZipFile('/content/drive/MyDrive/InsightPlaces/dados/semana-1.zip','r').extractall('/content/drive/MyDrive/InsightPlaces/dados/')\""
            ],
            "application/vnd.google.colaboratory.intrinsic+json": {
              "type": "string"
            }
          },
          "metadata": {},
          "execution_count": 59
        }
      ],
      "source": [
        "'''import zipfile\n",
        "\n",
        "zipfile.ZipFile('/content/drive/MyDrive/InsightPlaces/dados/semana-1.zip','r').extractall('/content/drive/MyDrive/InsightPlaces/dados/')'''"
      ]
    },
    {
      "cell_type": "markdown",
      "source": [
        "## Análises Preliminares"
      ],
      "metadata": {
        "id": "M66Co4Dcx1Lp"
      }
    },
    {
      "cell_type": "code",
      "execution_count": 60,
      "metadata": {
        "id": "1rDKf8L-GlH6"
      },
      "outputs": [],
      "source": [
        "path = '/content/drive/MyDrive/InsightPlaces/dados/dataset_bruto.json'\n",
        "df = spark.read.json(path)"
      ]
    },
    {
      "cell_type": "code",
      "source": [
        "df.limit(5).show()"
      ],
      "metadata": {
        "colab": {
          "base_uri": "https://localhost:8080/"
        },
        "id": "JHOPxFVpx9qN",
        "outputId": "f3f777c6-8b45-48f0-b6d0-5b8480888a76"
      },
      "execution_count": 61,
      "outputs": [
        {
          "output_type": "stream",
          "name": "stdout",
          "text": [
            "+--------------------+--------------------+--------------------+\n",
            "|             anuncio|             imagens|             usuario|\n",
            "+--------------------+--------------------+--------------------+\n",
            "|{0, [], [16], [0]...|[{39d6282a-71f3-4...|{9d44563d-3405-4e...|\n",
            "|{0, [], [14], [0]...|[{23d2b3ab-45b0-4...|{36245be7-70fe-40...|\n",
            "|{0, [1026], [1026...|[{1da65baa-368b-4...|{9dc415d8-1397-4d...|\n",
            "|{0, [120], [120],...|[{79b542c6-49b4-4...|{9911a2df-f299-4a...|\n",
            "|{0, [3], [3], [0]...|[{e2bc497b-6510-4...|{240a7aab-12e5-40...|\n",
            "+--------------------+--------------------+--------------------+\n",
            "\n"
          ]
        }
      ]
    },
    {
      "cell_type": "code",
      "execution_count": 62,
      "metadata": {
        "id": "-AnS7LIvJ0-5",
        "colab": {
          "base_uri": "https://localhost:8080/"
        },
        "outputId": "91dd8c42-d90f-4a15-e168-55bba6c0b889"
      },
      "outputs": [
        {
          "output_type": "stream",
          "name": "stdout",
          "text": [
            "No Dataset possuimos 89083 linhas e 3 colunas.\n"
          ]
        }
      ],
      "source": [
        "n_linhas = df.count()\n",
        "n_colunas = len(df.columns)\n",
        "\n",
        "print(f'No Dataset possuimos {n_linhas} linhas e {n_colunas} colunas.')"
      ]
    },
    {
      "cell_type": "code",
      "source": [
        "print('A estrutura das colunas do dataset: \\n')\n",
        "display(df.printSchema())"
      ],
      "metadata": {
        "colab": {
          "base_uri": "https://localhost:8080/",
          "height": 849
        },
        "id": "UmbSa3H-sNxw",
        "outputId": "d5b3788c-d06d-4e77-ae88-cf195dc22977"
      },
      "execution_count": 63,
      "outputs": [
        {
          "output_type": "stream",
          "name": "stdout",
          "text": [
            "A estrutura das colunas do dataset: \n",
            "\n",
            "root\n",
            " |-- anuncio: struct (nullable = true)\n",
            " |    |-- andar: long (nullable = true)\n",
            " |    |-- area_total: array (nullable = true)\n",
            " |    |    |-- element: string (containsNull = true)\n",
            " |    |-- area_util: array (nullable = true)\n",
            " |    |    |-- element: string (containsNull = true)\n",
            " |    |-- banheiros: array (nullable = true)\n",
            " |    |    |-- element: long (containsNull = true)\n",
            " |    |-- caracteristicas: array (nullable = true)\n",
            " |    |    |-- element: string (containsNull = true)\n",
            " |    |-- endereco: struct (nullable = true)\n",
            " |    |    |-- bairro: string (nullable = true)\n",
            " |    |    |-- cep: string (nullable = true)\n",
            " |    |    |-- cidade: string (nullable = true)\n",
            " |    |    |-- estado: string (nullable = true)\n",
            " |    |    |-- latitude: double (nullable = true)\n",
            " |    |    |-- longitude: double (nullable = true)\n",
            " |    |    |-- pais: string (nullable = true)\n",
            " |    |    |-- rua: string (nullable = true)\n",
            " |    |    |-- zona: string (nullable = true)\n",
            " |    |-- id: string (nullable = true)\n",
            " |    |-- quartos: array (nullable = true)\n",
            " |    |    |-- element: long (containsNull = true)\n",
            " |    |-- suites: array (nullable = true)\n",
            " |    |    |-- element: long (containsNull = true)\n",
            " |    |-- tipo_anuncio: string (nullable = true)\n",
            " |    |-- tipo_unidade: string (nullable = true)\n",
            " |    |-- tipo_uso: string (nullable = true)\n",
            " |    |-- vaga: array (nullable = true)\n",
            " |    |    |-- element: long (containsNull = true)\n",
            " |    |-- valores: array (nullable = true)\n",
            " |    |    |-- element: struct (containsNull = true)\n",
            " |    |    |    |-- condominio: string (nullable = true)\n",
            " |    |    |    |-- iptu: string (nullable = true)\n",
            " |    |    |    |-- tipo: string (nullable = true)\n",
            " |    |    |    |-- valor: string (nullable = true)\n",
            " |-- imagens: array (nullable = true)\n",
            " |    |-- element: struct (containsNull = true)\n",
            " |    |    |-- id: string (nullable = true)\n",
            " |    |    |-- url: string (nullable = true)\n",
            " |-- usuario: struct (nullable = true)\n",
            " |    |-- id: string (nullable = true)\n",
            " |    |-- nome: string (nullable = true)\n",
            "\n"
          ]
        },
        {
          "output_type": "display_data",
          "data": {
            "text/plain": [
              "None"
            ]
          },
          "metadata": {}
        }
      ]
    },
    {
      "cell_type": "markdown",
      "source": [
        "## Separando dados das colunas `anuncio`, `imagens` e `usuario`"
      ],
      "metadata": {
        "id": "ICqL-XW0xSuw"
      }
    },
    {
      "cell_type": "code",
      "source": [
        "anuncio = df.select('anuncio.*')\n",
        "\n",
        "anuncio.limit(5).show(truncate= False)"
      ],
      "metadata": {
        "colab": {
          "base_uri": "https://localhost:8080/"
        },
        "id": "iRVieOK8c6_O",
        "outputId": "6bc55f10-da54-4247-b434-3bd2cad9594b"
      },
      "execution_count": 230,
      "outputs": [
        {
          "output_type": "stream",
          "name": "stdout",
          "text": [
            "+-----+----------+---------+---------+---------------------------------------+-----------------------------------------------------------------------------------------------------------------------------+------------------------------------+-------+------+------------+------------+-----------+----+----------------------------+\n",
            "|andar|area_total|area_util|banheiros|caracteristicas                        |endereco                                                                                                                     |id                                  |quartos|suites|tipo_anuncio|tipo_unidade|tipo_uso   |vaga|valores                     |\n",
            "+-----+----------+---------+---------+---------------------------------------+-----------------------------------------------------------------------------------------------------------------------------+------------------------------------+-------+------+------------+------------+-----------+----+----------------------------+\n",
            "|0    |[]        |[16]     |[0]      |[]                                     |{Centro, 20061003, Rio de Janeiro, Rio de Janeiro, -22.906082, -43.18671, BR, Rua Buenos Aires, Zona Central}                |47d553e0-79f2-4a46-9390-5a3c962740c2|[0]    |[0]   |Usado       |Outros      |Comercial  |[1] |[{260, 107, Venda, 10000}]  |\n",
            "|0    |[]        |[14]     |[0]      |[]                                     |{Centro, 20051040, Rio de Janeiro, Rio de Janeiro, -22.902536, -43.18434, BR, Avenida Passos, Zona Central}                  |b6ffbae1-17f6-4870-9950-e998ac1c8d6a|[0]    |[]    |Usado       |Outros      |Comercial  |[0] |[{260, 107, Venda, 10000}]  |\n",
            "|0    |[1026]    |[1026]   |[0]      |[]                                     |{Maria da Graça, 20785360, Rio de Janeiro, Rio de Janeiro, -22.885516, -43.269083, BR, Rua Luís de Brito, Zona Norte}        |1fb030a5-9e3e-4a1d-93cd-cd2d8a215e11|[0]    |[]    |Usado       |Outros      |Comercial  |[0] |[{null, 1613, Venda, 10000}]|\n",
            "|0    |[120]     |[120]    |[0]      |[Portão eletrônico, Condomínio fechado]|{Campo Grande, 23095071, Rio de Janeiro, Rio de Janeiro, -22.885028, -43.561668, BR, Estrada Guandu do Sape, Zona Oeste}     |ac6cb348-69d6-45af-9589-dc34099370d8|[0]    |[]    |Usado       |Outros      |Residencial|[]  |[{80, null, Venda, 10000}]  |\n",
            "|0    |[3]       |[3]      |[0]      |[]                                     |{São Cristóvão, 20931670, Rio de Janeiro, Rio de Janeiro, -22.885912, -43.219296, BR, Rua Monsenhor Manuel Gomes, Zona Norte}|e032b908-ef42-4d4a-8125-eba4792bacbe|[0]    |[]    |Usado       |Outros      |Residencial|[]  |[{0, 0, Venda, 5000}]       |\n",
            "+-----+----------+---------+---------+---------------------------------------+-----------------------------------------------------------------------------------------------------------------------------+------------------------------------+-------+------+------------+------------+-----------+----+----------------------------+\n",
            "\n"
          ]
        }
      ]
    },
    {
      "cell_type": "code",
      "source": [
        "imagens = df.select(['imagens.id', 'imagens.url'])\n",
        "\n",
        "imagens.limit(5).show(truncate= False)"
      ],
      "metadata": {
        "id": "N658C33Ossx0",
        "colab": {
          "base_uri": "https://localhost:8080/"
        },
        "outputId": "25e93692-3251-408f-ff5d-479ef939dd6f"
      },
      "execution_count": 231,
      "outputs": [
        {
          "output_type": "stream",
          "name": "stdout",
          "text": [
            "+--------------------------------------------------------------------------------------------------------------------------------------------------------+----------------------------------------------------------------------------------------------------------------------------------------------------------------------------------------------------------------------------------------------------------------------------------------------------------------------------------------------------------------------------------------------------------------------------------------+\n",
            "|id                                                                                                                                                      |url                                                                                                                                                                                                                                                                                                                                                                                                                                     |\n",
            "+--------------------------------------------------------------------------------------------------------------------------------------------------------+----------------------------------------------------------------------------------------------------------------------------------------------------------------------------------------------------------------------------------------------------------------------------------------------------------------------------------------------------------------------------------------------------------------------------------------+\n",
            "|[39d6282a-71f3-47bc-94aa-909351ecd881]                                                                                                                  |[https://api.images.insightplaces.com.br/{type}/{width}/{height}/1b08098d-f2dc-439c-b604-a4e50d12774b.jpg]                                                                                                                                                                                                                                                                                                                              |\n",
            "|[23d2b3ab-45b0-47f2-a27f-ffbe066c2c38, 1b5f71f8-1aec-4b82-8d4c-67540d204a59, 9bb11688-7dc9-48b9-bc1d-6a7a2dbcd553, 1aaf6095-70bc-4f1f-87a4-fe3534a1bd2a]|[https://api.images.insightplaces.com.br/{type}/{width}/{height}/7a65b929-fe46-4a60-ae31-81faf2edb3c6.jpg, https://api.images.insightplaces.com.br/{type}/{width}/{height}/82e92d72-002a-4d3b-8063-16d4d65474b3.jpg, https://api.images.insightplaces.com.br/{type}/{width}/{height}/23be0c2c-4c8f-4718-8126-6f160bb3efcc.jpg, https://api.images.insightplaces.com.br/{type}/{width}/{height}/0ae382f4-b1ac-4ad9-b6cf-d9b4d7d01908.jpg]|\n",
            "|[1da65baa-368b-490f-bef7-1834b9a428c1]                                                                                                                  |[https://api.images.insightplaces.com.br/{type}/{width}/{height}/b06fe423-6f18-43bb-b0e3-a569158885d2.jpg]                                                                                                                                                                                                                                                                                                                              |\n",
            "|[79b542c6-49b4-4f06-80b5-ef4fcdf98f76]                                                                                                                  |[https://api.images.insightplaces.com.br/{type}/{width}/{height}/b9688b1a-e6e8-4027-9368-d8298bc5ac40.jpg]                                                                                                                                                                                                                                                                                                                              |\n",
            "|[e2bc497b-6510-4731-8942-97b3d3cdab5e]                                                                                                                  |[https://api.images.insightplaces.com.br/{type}/{width}/{height}/bd7e2c54-8d10-4148-806d-0d656ff80fc2.jpg]                                                                                                                                                                                                                                                                                                                              |\n",
            "+--------------------------------------------------------------------------------------------------------------------------------------------------------+----------------------------------------------------------------------------------------------------------------------------------------------------------------------------------------------------------------------------------------------------------------------------------------------------------------------------------------------------------------------------------------------------------------------------------------+\n",
            "\n"
          ]
        }
      ]
    },
    {
      "cell_type": "code",
      "source": [
        "usuario = df.select(['usuario.id', 'usuario.nome'])\n",
        "\n",
        "usuario.limit(5).show(truncate= False)"
      ],
      "metadata": {
        "colab": {
          "base_uri": "https://localhost:8080/"
        },
        "id": "oyD7fz-Rs-k-",
        "outputId": "dd5d6d3c-9117-42a4-ec7e-d0a71c8254e6"
      },
      "execution_count": 232,
      "outputs": [
        {
          "output_type": "stream",
          "name": "stdout",
          "text": [
            "+------------------------------------+--------+\n",
            "|id                                  |nome    |\n",
            "+------------------------------------+--------+\n",
            "|9d44563d-3405-4e84-9381-35b7cf40a9a4|Frank   |\n",
            "|36245be7-70fe-40cd-84d4-70a57dc8f976|Caroline|\n",
            "|9dc415d8-1397-4d8d-8425-b8310fad309d|Oliver  |\n",
            "|9911a2df-f299-4a73-a384-281417abaf69|Matthew |\n",
            "|240a7aab-12e5-4069-9a2c-9dca4c4f9c68|Jude    |\n",
            "+------------------------------------+--------+\n",
            "\n"
          ]
        }
      ]
    },
    {
      "cell_type": "markdown",
      "source": [
        "## Filtrar a base de dados"
      ],
      "metadata": {
        "id": "BH2xiuHUgewB"
      }
    },
    {
      "cell_type": "code",
      "source": [
        "print('Contagem dos dados para anáçose das colunas \"tipo_uso\", \"tipo_unidade\", \"tipo_anuncio\"')\n",
        "anuncio.groupby(['tipo_uso', 'tipo_unidade', 'tipo_anuncio']).count().orderBy('count', ascending= False).show()"
      ],
      "metadata": {
        "colab": {
          "base_uri": "https://localhost:8080/"
        },
        "id": "ooeSadTcf7oX",
        "outputId": "67bd2962-c45b-4c95-a978-e7dd9ffcd6dc"
      },
      "execution_count": 233,
      "outputs": [
        {
          "output_type": "stream",
          "name": "stdout",
          "text": [
            "Contagem dos dados para anáçose das colunas \"tipo_uso\", \"tipo_unidade\", \"tipo_anuncio\"\n",
            "+-----------+------------+------------+-----+\n",
            "|   tipo_uso|tipo_unidade|tipo_anuncio|count|\n",
            "+-----------+------------+------------+-----+\n",
            "|Residencial| Apartamento|       Usado|66562|\n",
            "|Residencial|        Casa|       Usado|10224|\n",
            "|Residencial|      Outros|       Usado| 7502|\n",
            "|  Comercial|      Outros|       Usado| 4443|\n",
            "|Residencial| Apartamento|  Lançamento|  235|\n",
            "|  Comercial|        Casa|       Usado|   92|\n",
            "|Residencial|      Outros|  Lançamento|   15|\n",
            "|  Comercial| Apartamento|       Usado|    4|\n",
            "|  Comercial|      Outros|  Lançamento|    3|\n",
            "|Residencial|        Casa|  Lançamento|    3|\n",
            "+-----------+------------+------------+-----+\n",
            "\n"
          ]
        }
      ]
    },
    {
      "cell_type": "markdown",
      "source": [
        "### Separando DataFrame `tipo_uso`"
      ],
      "metadata": {
        "id": "lxsnENWOh1Du"
      }
    },
    {
      "cell_type": "code",
      "source": [
        "print('Valores distintos da coluna tipo_uso:')\n",
        "anuncio.select('tipo_uso').distinct().show()"
      ],
      "metadata": {
        "colab": {
          "base_uri": "https://localhost:8080/"
        },
        "id": "415XG5afieCn",
        "outputId": "7903318f-3559-4f28-a01c-18ab36f038dc"
      },
      "execution_count": 234,
      "outputs": [
        {
          "output_type": "stream",
          "name": "stdout",
          "text": [
            "Valores distintos da coluna tipo_uso:\n",
            "+-----------+\n",
            "|   tipo_uso|\n",
            "+-----------+\n",
            "|  Comercial|\n",
            "|Residencial|\n",
            "+-----------+\n",
            "\n"
          ]
        }
      ]
    },
    {
      "cell_type": "code",
      "source": [
        "n_linhas_tipo_uso = anuncio.where('tipo_uso == \"Residencial\"').count()\n",
        "print(f'Temos {n_linhas_tipo_uso} imoveis \"Residencial\" na coluna \"tipo_uso\"')"
      ],
      "metadata": {
        "colab": {
          "base_uri": "https://localhost:8080/"
        },
        "id": "J4k-13MhlIaT",
        "outputId": "84f66a19-9094-4922-8f1a-0266d5e37662"
      },
      "execution_count": 235,
      "outputs": [
        {
          "output_type": "stream",
          "name": "stdout",
          "text": [
            "Temos 84541 imoveis \"Residencial\" na coluna \"tipo_uso\"\n"
          ]
        }
      ]
    },
    {
      "cell_type": "code",
      "source": [
        "print('Primeiro filtro \"tipo_uso == Residencial\":')\n",
        "anuncio.filter('tipo_uso == \"Residencial\"').limit(5).show()"
      ],
      "metadata": {
        "colab": {
          "base_uri": "https://localhost:8080/"
        },
        "id": "YA_YIgZAjZCu",
        "outputId": "7dad8efa-3250-478f-faad-9d38f5beb5ab"
      },
      "execution_count": 236,
      "outputs": [
        {
          "output_type": "stream",
          "name": "stdout",
          "text": [
            "Primeiro filtro \"tipo_uso == Residencial\":\n",
            "+-----+----------+---------+---------+--------------------+--------------------+--------------------+-------+------+------------+------------+-----------+----+--------------------+\n",
            "|andar|area_total|area_util|banheiros|     caracteristicas|            endereco|                  id|quartos|suites|tipo_anuncio|tipo_unidade|   tipo_uso|vaga|             valores|\n",
            "+-----+----------+---------+---------+--------------------+--------------------+--------------------+-------+------+------------+------------+-----------+----+--------------------+\n",
            "|    0|     [120]|    [120]|      [0]|[Portão eletrônic...|{Campo Grande, 23...|ac6cb348-69d6-45a...|    [0]|    []|       Usado|      Outros|Residencial|  []|[{80, null, Venda...|\n",
            "|    0|       [3]|      [3]|      [0]|                  []|{São Cristóvão, 2...|e032b908-ef42-4d4...|    [0]|    []|       Usado|      Outros|Residencial|  []|[{0, 0, Venda, 50...|\n",
            "|    3|      [43]|     [43]|      [1]|[Academia, Churra...|{Paciência, 23585...|d2e3a3aa-09b5-45a...|    [2]|    []|       Usado| Apartamento|Residencial| [1]|[{245, null, Vend...|\n",
            "|    2|      [42]|     [42]|      [1]|[Churrasqueira, P...|{Paciência, 23585...|085bab2c-87ad-452...|    [2]|    []|       Usado| Apartamento|Residencial| [1]|[{0, 0, Venda, 15...|\n",
            "|    1|      [41]|     [41]|      [1]|[Portaria 24h, Co...|{Guaratiba, 23036...|18d22cbe-1b86-476...|    [2]|    []|       Usado| Apartamento|Residencial| [1]|[{0, 0, Venda, 20...|\n",
            "+-----+----------+---------+---------+--------------------+--------------------+--------------------+-------+------+------------+------------+-----------+----+--------------------+\n",
            "\n"
          ]
        }
      ]
    },
    {
      "cell_type": "markdown",
      "source": [
        "### Separando DataFrame `tipo_unidade`"
      ],
      "metadata": {
        "id": "warQPMSoiJKh"
      }
    },
    {
      "cell_type": "code",
      "source": [
        "print('Valores distintos da coluna tipo_unidade:')\n",
        "anuncio.select('tipo_unidade').distinct().show()"
      ],
      "metadata": {
        "colab": {
          "base_uri": "https://localhost:8080/"
        },
        "outputId": "40f32c8b-69e7-44b5-bf93-bae6f44b300d",
        "id": "CiwMJ1aAkcoP"
      },
      "execution_count": 237,
      "outputs": [
        {
          "output_type": "stream",
          "name": "stdout",
          "text": [
            "Valores distintos da coluna tipo_unidade:\n",
            "+------------+\n",
            "|tipo_unidade|\n",
            "+------------+\n",
            "|      Outros|\n",
            "| Apartamento|\n",
            "|        Casa|\n",
            "+------------+\n",
            "\n"
          ]
        }
      ]
    },
    {
      "cell_type": "code",
      "source": [
        "n_linhas_tipo_unidade = anuncio.where('tipo_unidade == \"Apartamento\"').count()\n",
        "print(f'Temos {n_linhas_tipo_unidade} imoveis \"Apartamento\" na coluna \"tipo_unidade\"')"
      ],
      "metadata": {
        "colab": {
          "base_uri": "https://localhost:8080/"
        },
        "id": "H5IJ500KmzLf",
        "outputId": "b8e32500-937c-41b1-9d50-8ce507138cfd"
      },
      "execution_count": 238,
      "outputs": [
        {
          "output_type": "stream",
          "name": "stdout",
          "text": [
            "Temos 66801 imoveis \"Apartamento\" na coluna \"tipo_unidade\"\n"
          ]
        }
      ]
    },
    {
      "cell_type": "code",
      "source": [
        "print('Primeiro filtro \"tipo_unidade == Apartamento\":')\n",
        "anuncio.filter('tipo_unidade == \"Apartamento\"').limit(5).show()"
      ],
      "metadata": {
        "colab": {
          "base_uri": "https://localhost:8080/"
        },
        "outputId": "26c9c525-bb79-465b-9955-10f98b4f1df3",
        "id": "wf5pa3FvkcoQ"
      },
      "execution_count": 239,
      "outputs": [
        {
          "output_type": "stream",
          "name": "stdout",
          "text": [
            "Primeiro filtro \"tipo_unidade == Apartamento\":\n",
            "+-----+----------+---------+---------+--------------------+--------------------+--------------------+-------+------+------------+------------+-----------+----+--------------------+\n",
            "|andar|area_total|area_util|banheiros|     caracteristicas|            endereco|                  id|quartos|suites|tipo_anuncio|tipo_unidade|   tipo_uso|vaga|             valores|\n",
            "+-----+----------+---------+---------+--------------------+--------------------+--------------------+-------+------+------------+------------+-----------+----+--------------------+\n",
            "|    3|      [43]|     [43]|      [1]|[Academia, Churra...|{Paciência, 23585...|d2e3a3aa-09b5-45a...|    [2]|    []|       Usado| Apartamento|Residencial| [1]|[{245, null, Vend...|\n",
            "|    2|      [42]|     [42]|      [1]|[Churrasqueira, P...|{Paciência, 23585...|085bab2c-87ad-452...|    [2]|    []|       Usado| Apartamento|Residencial| [1]|[{0, 0, Venda, 15...|\n",
            "|    1|      [41]|     [41]|      [1]|[Portaria 24h, Co...|{Guaratiba, 23036...|18d22cbe-1b86-476...|    [2]|    []|       Usado| Apartamento|Residencial| [1]|[{0, 0, Venda, 20...|\n",
            "|    3|      [43]|     [43]|      [1]|[Churrasqueira, P...|{Cosmos, 23066271...|bed8a354-9317-442...|    [2]|    []|       Usado| Apartamento|Residencial| [0]|[{285, null, Vend...|\n",
            "|    2|      [43]|     [43]|      [1]|[Academia, Churra...|{Guaratiba, 23036...|12a13315-d67f-48f...|    [2]|    []|       Usado| Apartamento|Residencial| [1]|[{245, null, Vend...|\n",
            "+-----+----------+---------+---------+--------------------+--------------------+--------------------+-------+------+------------+------------+-----------+----+--------------------+\n",
            "\n"
          ]
        }
      ]
    },
    {
      "cell_type": "markdown",
      "source": [
        "### Separando DataFrame `tipo_anuncio`"
      ],
      "metadata": {
        "id": "3hvP9OIziJTn"
      }
    },
    {
      "cell_type": "code",
      "source": [
        "print('Valores distintos da coluna tipo_anuncio:')\n",
        "anuncio.select('tipo_anuncio').distinct().show()"
      ],
      "metadata": {
        "colab": {
          "base_uri": "https://localhost:8080/"
        },
        "outputId": "247d8f08-41f2-4f99-b757-365e7cefd6f3",
        "id": "6B6yLTMxkpeF"
      },
      "execution_count": 240,
      "outputs": [
        {
          "output_type": "stream",
          "name": "stdout",
          "text": [
            "Valores distintos da coluna tipo_anuncio:\n",
            "+------------+\n",
            "|tipo_anuncio|\n",
            "+------------+\n",
            "|       Usado|\n",
            "|  Lançamento|\n",
            "+------------+\n",
            "\n"
          ]
        }
      ]
    },
    {
      "cell_type": "code",
      "source": [
        "n_linhas_tipo_anuncio = anuncio.where('tipo_anuncio == \"Usado\"').count()\n",
        "print(f'Temos {n_linhas_tipo_anuncio} imoveis \"Usado\" na coluna \"tipo_anuncio\"')"
      ],
      "metadata": {
        "colab": {
          "base_uri": "https://localhost:8080/"
        },
        "id": "9cmfgm6wm9CL",
        "outputId": "80ea31a3-32ad-45bc-c5b4-e362adbe0115"
      },
      "execution_count": 241,
      "outputs": [
        {
          "output_type": "stream",
          "name": "stdout",
          "text": [
            "Temos 88827 imoveis \"Usado\" na coluna \"tipo_anuncio\"\n"
          ]
        }
      ]
    },
    {
      "cell_type": "code",
      "source": [
        "print('Primeiro filtro \"tipo_anuncio == Usado\":')\n",
        "anuncio.filter('tipo_anuncio == \"Usado\"').limit(5).show()"
      ],
      "metadata": {
        "colab": {
          "base_uri": "https://localhost:8080/"
        },
        "outputId": "6316bd75-2c98-40af-ca2c-7f56a5a9d8f3",
        "id": "p9XJ2K95kpeG"
      },
      "execution_count": 242,
      "outputs": [
        {
          "output_type": "stream",
          "name": "stdout",
          "text": [
            "Primeiro filtro \"tipo_anuncio == Usado\":\n",
            "+-----+----------+---------+---------+--------------------+--------------------+--------------------+-------+------+------------+------------+-----------+----+--------------------+\n",
            "|andar|area_total|area_util|banheiros|     caracteristicas|            endereco|                  id|quartos|suites|tipo_anuncio|tipo_unidade|   tipo_uso|vaga|             valores|\n",
            "+-----+----------+---------+---------+--------------------+--------------------+--------------------+-------+------+------------+------------+-----------+----+--------------------+\n",
            "|    0|        []|     [16]|      [0]|                  []|{Centro, 20061003...|47d553e0-79f2-4a4...|    [0]|   [0]|       Usado|      Outros|  Comercial| [1]|[{260, 107, Venda...|\n",
            "|    0|        []|     [14]|      [0]|                  []|{Centro, 20051040...|b6ffbae1-17f6-487...|    [0]|    []|       Usado|      Outros|  Comercial| [0]|[{260, 107, Venda...|\n",
            "|    0|    [1026]|   [1026]|      [0]|                  []|{Maria da Graça, ...|1fb030a5-9e3e-4a1...|    [0]|    []|       Usado|      Outros|  Comercial| [0]|[{null, 1613, Ven...|\n",
            "|    0|     [120]|    [120]|      [0]|[Portão eletrônic...|{Campo Grande, 23...|ac6cb348-69d6-45a...|    [0]|    []|       Usado|      Outros|Residencial|  []|[{80, null, Venda...|\n",
            "|    0|       [3]|      [3]|      [0]|                  []|{São Cristóvão, 2...|e032b908-ef42-4d4...|    [0]|    []|       Usado|      Outros|Residencial|  []|[{0, 0, Venda, 50...|\n",
            "+-----+----------+---------+---------+--------------------+--------------------+--------------------+-------+------+------------+------------+-----------+----+--------------------+\n",
            "\n"
          ]
        }
      ]
    },
    {
      "cell_type": "markdown",
      "source": [
        "### Realizando filtro composto"
      ],
      "metadata": {
        "id": "SgyTd96ykx6L"
      }
    },
    {
      "cell_type": "markdown",
      "source": [
        "Foi solicitado que fizéssemos alguns filtros nas colunas tipo_uso, tipo_unidade e tipo_anuncio da nossa base de dados:\n",
        "\n",
        "* tipo_uso: Residencial;\n",
        "* tipo_unidade: Apartamento;\n",
        "* tipo_anuncio: Usado."
      ],
      "metadata": {
        "id": "qStUXqrVnNPT"
      }
    },
    {
      "cell_type": "code",
      "source": [
        "n_linhas_filtro = anuncio.where('tipo_uso == \"Residencial\" and tipo_unidade == \"Apartamento\" and tipo_anuncio == \"Usado\"').count()\n",
        "print(f'Temos {n_linhas_filtro} imoveis de acordo com o filtro')"
      ],
      "metadata": {
        "colab": {
          "base_uri": "https://localhost:8080/"
        },
        "id": "7DKq0wrtn5Vp",
        "outputId": "3e3b9682-ee75-4900-db5b-cefb8b4dc6e0"
      },
      "execution_count": 243,
      "outputs": [
        {
          "output_type": "stream",
          "name": "stdout",
          "text": [
            "Temos 66562 imoveis de acordo com o filtro\n"
          ]
        }
      ]
    },
    {
      "cell_type": "code",
      "source": [
        "anuncio.filter('tipo_uso == \"Residencial\" and tipo_unidade == \"Apartamento\" and tipo_anuncio == \"Usado\"').limit(5).show()"
      ],
      "metadata": {
        "id": "ryj-D5-7hTlF",
        "colab": {
          "base_uri": "https://localhost:8080/"
        },
        "outputId": "177e4761-31be-4dad-ff31-165ad03a7cf6"
      },
      "execution_count": 244,
      "outputs": [
        {
          "output_type": "stream",
          "name": "stdout",
          "text": [
            "+-----+----------+---------+---------+--------------------+--------------------+--------------------+-------+------+------------+------------+-----------+----+--------------------+\n",
            "|andar|area_total|area_util|banheiros|     caracteristicas|            endereco|                  id|quartos|suites|tipo_anuncio|tipo_unidade|   tipo_uso|vaga|             valores|\n",
            "+-----+----------+---------+---------+--------------------+--------------------+--------------------+-------+------+------------+------------+-----------+----+--------------------+\n",
            "|    3|      [43]|     [43]|      [1]|[Academia, Churra...|{Paciência, 23585...|d2e3a3aa-09b5-45a...|    [2]|    []|       Usado| Apartamento|Residencial| [1]|[{245, null, Vend...|\n",
            "|    2|      [42]|     [42]|      [1]|[Churrasqueira, P...|{Paciência, 23585...|085bab2c-87ad-452...|    [2]|    []|       Usado| Apartamento|Residencial| [1]|[{0, 0, Venda, 15...|\n",
            "|    1|      [41]|     [41]|      [1]|[Portaria 24h, Co...|{Guaratiba, 23036...|18d22cbe-1b86-476...|    [2]|    []|       Usado| Apartamento|Residencial| [1]|[{0, 0, Venda, 20...|\n",
            "|    3|      [43]|     [43]|      [1]|[Churrasqueira, P...|{Cosmos, 23066271...|bed8a354-9317-442...|    [2]|    []|       Usado| Apartamento|Residencial| [0]|[{285, null, Vend...|\n",
            "|    2|      [43]|     [43]|      [1]|[Academia, Churra...|{Guaratiba, 23036...|12a13315-d67f-48f...|    [2]|    []|       Usado| Apartamento|Residencial| [1]|[{245, null, Vend...|\n",
            "+-----+----------+---------+---------+--------------------+--------------------+--------------------+-------+------+------------+------------+-----------+----+--------------------+\n",
            "\n"
          ]
        }
      ]
    },
    {
      "cell_type": "markdown",
      "source": [
        "## Transformar os Data Types das colunas"
      ],
      "metadata": {
        "id": "xwf_2Yj2oYw1"
      }
    },
    {
      "cell_type": "markdown",
      "source": [
        "Será transformado os dados das colunas `quartos`, `suites`, `banheiros`, `vaga`, `area_total` e `area_util` de listas para inteiros."
      ],
      "metadata": {
        "id": "NL7PSh-jooBc"
      }
    },
    {
      "cell_type": "code",
      "source": [
        "from pyspark.sql.types import IntegerType\n",
        "from pyspark.sql import functions as f"
      ],
      "metadata": {
        "id": "ADZVmnw-nwPt"
      },
      "execution_count": 245,
      "outputs": []
    },
    {
      "cell_type": "code",
      "source": [
        "anuncio.select(['quartos', 'suites', 'banheiros', 'vaga', 'area_total', 'area_util']).printSchema()"
      ],
      "metadata": {
        "colab": {
          "base_uri": "https://localhost:8080/"
        },
        "id": "q5G_llOzo8AU",
        "outputId": "55c442df-808c-479f-ec6f-f2b907cc78a0"
      },
      "execution_count": 246,
      "outputs": [
        {
          "output_type": "stream",
          "name": "stdout",
          "text": [
            "root\n",
            " |-- quartos: array (nullable = true)\n",
            " |    |-- element: long (containsNull = true)\n",
            " |-- suites: array (nullable = true)\n",
            " |    |-- element: long (containsNull = true)\n",
            " |-- banheiros: array (nullable = true)\n",
            " |    |-- element: long (containsNull = true)\n",
            " |-- vaga: array (nullable = true)\n",
            " |    |-- element: long (containsNull = true)\n",
            " |-- area_total: array (nullable = true)\n",
            " |    |-- element: string (containsNull = true)\n",
            " |-- area_util: array (nullable = true)\n",
            " |    |-- element: string (containsNull = true)\n",
            "\n"
          ]
        }
      ]
    },
    {
      "cell_type": "code",
      "source": [
        "anuncio = anuncio\\\n",
        "    .withColumn('quartos', anuncio['quartos'][0].cast(IntegerType())) \\\n",
        "    .withColumn('suites', anuncio['suites'][0].cast(IntegerType())) \\\n",
        "    .withColumn('banheiros', anuncio['banheiros'][0].cast(IntegerType())) \\\n",
        "    .withColumn('vaga', anuncio['vaga'][0].cast(IntegerType())) \\\n",
        "    .withColumn('area_total', anuncio['area_total'][0].cast(IntegerType())) \\\n",
        "    .withColumn('area_util', anuncio['area_util'][0].cast(IntegerType())) \\"
      ],
      "metadata": {
        "id": "tqhcdNLtpOqZ"
      },
      "execution_count": 247,
      "outputs": []
    },
    {
      "cell_type": "code",
      "source": [
        "anuncio.select(['quartos', 'suites', 'banheiros', 'vaga', 'area_total', 'area_util']).printSchema()"
      ],
      "metadata": {
        "colab": {
          "base_uri": "https://localhost:8080/"
        },
        "id": "x7516quBpoIK",
        "outputId": "4179815b-e919-442d-a5db-2e41c10c92eb"
      },
      "execution_count": 248,
      "outputs": [
        {
          "output_type": "stream",
          "name": "stdout",
          "text": [
            "root\n",
            " |-- quartos: integer (nullable = true)\n",
            " |-- suites: integer (nullable = true)\n",
            " |-- banheiros: integer (nullable = true)\n",
            " |-- vaga: integer (nullable = true)\n",
            " |-- area_total: integer (nullable = true)\n",
            " |-- area_util: integer (nullable = true)\n",
            "\n"
          ]
        }
      ]
    },
    {
      "cell_type": "code",
      "source": [
        "anuncio.limit(5).show()"
      ],
      "metadata": {
        "colab": {
          "base_uri": "https://localhost:8080/"
        },
        "id": "4oPQSmF_pokz",
        "outputId": "0c7dce9b-d5cd-4df8-bf00-f53a4b7e8e17"
      },
      "execution_count": 249,
      "outputs": [
        {
          "output_type": "stream",
          "name": "stdout",
          "text": [
            "+-----+----------+---------+---------+--------------------+--------------------+--------------------+-------+------+------------+------------+-----------+----+--------------------+\n",
            "|andar|area_total|area_util|banheiros|     caracteristicas|            endereco|                  id|quartos|suites|tipo_anuncio|tipo_unidade|   tipo_uso|vaga|             valores|\n",
            "+-----+----------+---------+---------+--------------------+--------------------+--------------------+-------+------+------------+------------+-----------+----+--------------------+\n",
            "|    0|      null|       16|        0|                  []|{Centro, 20061003...|47d553e0-79f2-4a4...|      0|     0|       Usado|      Outros|  Comercial|   1|[{260, 107, Venda...|\n",
            "|    0|      null|       14|        0|                  []|{Centro, 20051040...|b6ffbae1-17f6-487...|      0|  null|       Usado|      Outros|  Comercial|   0|[{260, 107, Venda...|\n",
            "|    0|      1026|     1026|        0|                  []|{Maria da Graça, ...|1fb030a5-9e3e-4a1...|      0|  null|       Usado|      Outros|  Comercial|   0|[{null, 1613, Ven...|\n",
            "|    0|       120|      120|        0|[Portão eletrônic...|{Campo Grande, 23...|ac6cb348-69d6-45a...|      0|  null|       Usado|      Outros|Residencial|null|[{80, null, Venda...|\n",
            "|    0|         3|        3|        0|                  []|{São Cristóvão, 2...|e032b908-ef42-4d4...|      0|  null|       Usado|      Outros|Residencial|null|[{0, 0, Venda, 50...|\n",
            "+-----+----------+---------+---------+--------------------+--------------------+--------------------+-------+------+------------+------------+-----------+----+--------------------+\n",
            "\n"
          ]
        }
      ]
    },
    {
      "cell_type": "markdown",
      "source": [
        "## Tratamento de informações sobre localização"
      ],
      "metadata": {
        "id": "CvqcBDAEtHVd"
      }
    },
    {
      "cell_type": "markdown",
      "source": [
        "Ao analisarmos as colunas de dentro de `endereco`, foi solicitado que apenas as informações sobre `bairro` e `zona` da cidade fossem extraídas.\n"
      ],
      "metadata": {
        "id": "Soi4Owv3tRoe"
      }
    },
    {
      "cell_type": "code",
      "source": [
        "print('Estrutura da colunas endereco: ')\n",
        "endereco = anuncio.select('endereco')\n",
        "endereco.printSchema()"
      ],
      "metadata": {
        "colab": {
          "base_uri": "https://localhost:8080/"
        },
        "id": "3LCQIc5psKHp",
        "outputId": "b5c6fa7b-c4ef-4c80-d4bc-009a08d07911"
      },
      "execution_count": 250,
      "outputs": [
        {
          "output_type": "stream",
          "name": "stdout",
          "text": [
            "Estrutura da colunas endereco: \n",
            "root\n",
            " |-- endereco: struct (nullable = true)\n",
            " |    |-- bairro: string (nullable = true)\n",
            " |    |-- cep: string (nullable = true)\n",
            " |    |-- cidade: string (nullable = true)\n",
            " |    |-- estado: string (nullable = true)\n",
            " |    |-- latitude: double (nullable = true)\n",
            " |    |-- longitude: double (nullable = true)\n",
            " |    |-- pais: string (nullable = true)\n",
            " |    |-- rua: string (nullable = true)\n",
            " |    |-- zona: string (nullable = true)\n",
            "\n"
          ]
        }
      ]
    },
    {
      "cell_type": "markdown",
      "source": [
        "Então, será analisado a coluna endereco e utilizadas apenas as informações sobre `bairro` e `zona` em colunas de nosso DataFrame."
      ],
      "metadata": {
        "id": "JJeX_Ht0wXzM"
      }
    },
    {
      "cell_type": "code",
      "source": [
        "# salvando infomações para possibilidades futuras\n",
        "endereco = endereco \\\n",
        "    .withColumn('bairro', endereco['endereco']['bairro']) \\\n",
        "    .withColumn('zona', endereco['endereco']['zona'])\n",
        "\n",
        "endereco.limit(5).show()"
      ],
      "metadata": {
        "colab": {
          "base_uri": "https://localhost:8080/"
        },
        "id": "3vNrs3cmtnTt",
        "outputId": "27382624-bc8d-45a9-e995-3042fb1d31a2"
      },
      "execution_count": 251,
      "outputs": [
        {
          "output_type": "stream",
          "name": "stdout",
          "text": [
            "+--------------------+--------------+------------+\n",
            "|            endereco|        bairro|        zona|\n",
            "+--------------------+--------------+------------+\n",
            "|{Centro, 20061003...|        Centro|Zona Central|\n",
            "|{Centro, 20051040...|        Centro|Zona Central|\n",
            "|{Maria da Graça, ...|Maria da Graça|  Zona Norte|\n",
            "|{Campo Grande, 23...|  Campo Grande|  Zona Oeste|\n",
            "|{São Cristóvão, 2...| São Cristóvão|  Zona Norte|\n",
            "+--------------------+--------------+------------+\n",
            "\n"
          ]
        }
      ]
    },
    {
      "cell_type": "code",
      "source": [
        "anuncio = anuncio \\\n",
        "    .withColumn('bairro', endereco['endereco']['bairro']) \\\n",
        "    .withColumn('zona', endereco['endereco']['zona'])\n",
        "\n",
        "anuncio.limit(5).show()\n"
      ],
      "metadata": {
        "colab": {
          "base_uri": "https://localhost:8080/"
        },
        "id": "BDtgtX0luaiG",
        "outputId": "08438a49-92b5-4e2e-a382-811c52c3ceaa"
      },
      "execution_count": 252,
      "outputs": [
        {
          "output_type": "stream",
          "name": "stdout",
          "text": [
            "+-----+----------+---------+---------+--------------------+--------------------+--------------------+-------+------+------------+------------+-----------+----+--------------------+--------------+------------+\n",
            "|andar|area_total|area_util|banheiros|     caracteristicas|            endereco|                  id|quartos|suites|tipo_anuncio|tipo_unidade|   tipo_uso|vaga|             valores|        bairro|        zona|\n",
            "+-----+----------+---------+---------+--------------------+--------------------+--------------------+-------+------+------------+------------+-----------+----+--------------------+--------------+------------+\n",
            "|    0|      null|       16|        0|                  []|{Centro, 20061003...|47d553e0-79f2-4a4...|      0|     0|       Usado|      Outros|  Comercial|   1|[{260, 107, Venda...|        Centro|Zona Central|\n",
            "|    0|      null|       14|        0|                  []|{Centro, 20051040...|b6ffbae1-17f6-487...|      0|  null|       Usado|      Outros|  Comercial|   0|[{260, 107, Venda...|        Centro|Zona Central|\n",
            "|    0|      1026|     1026|        0|                  []|{Maria da Graça, ...|1fb030a5-9e3e-4a1...|      0|  null|       Usado|      Outros|  Comercial|   0|[{null, 1613, Ven...|Maria da Graça|  Zona Norte|\n",
            "|    0|       120|      120|        0|[Portão eletrônic...|{Campo Grande, 23...|ac6cb348-69d6-45a...|      0|  null|       Usado|      Outros|Residencial|null|[{80, null, Venda...|  Campo Grande|  Zona Oeste|\n",
            "|    0|         3|        3|        0|                  []|{São Cristóvão, 2...|e032b908-ef42-4d4...|      0|  null|       Usado|      Outros|Residencial|null|[{0, 0, Venda, 50...| São Cristóvão|  Zona Norte|\n",
            "+-----+----------+---------+---------+--------------------+--------------------+--------------------+-------+------+------------+------------+-----------+----+--------------------+--------------+------------+\n",
            "\n"
          ]
        }
      ]
    },
    {
      "cell_type": "markdown",
      "source": [
        "## Transformar coluna `valores`"
      ],
      "metadata": {
        "id": "Vs4n6ByCvk2V"
      }
    },
    {
      "cell_type": "markdown",
      "source": [
        "Pensando em simplificar a compreensão dos dados para as pessoas cientistas de dados, vamos entender a estrutura da coluna valores que é a mais importante da base de dados.\n",
        "\n"
      ],
      "metadata": {
        "id": "5db82ycMvsXg"
      }
    },
    {
      "cell_type": "code",
      "source": [
        "anuncio.printSchema()"
      ],
      "metadata": {
        "colab": {
          "base_uri": "https://localhost:8080/"
        },
        "id": "FuIDJGXt0AVL",
        "outputId": "91bd32c0-28c3-4cb8-b9b8-46522bfd97e8"
      },
      "execution_count": 253,
      "outputs": [
        {
          "output_type": "stream",
          "name": "stdout",
          "text": [
            "root\n",
            " |-- andar: long (nullable = true)\n",
            " |-- area_total: integer (nullable = true)\n",
            " |-- area_util: integer (nullable = true)\n",
            " |-- banheiros: integer (nullable = true)\n",
            " |-- caracteristicas: array (nullable = true)\n",
            " |    |-- element: string (containsNull = true)\n",
            " |-- endereco: struct (nullable = true)\n",
            " |    |-- bairro: string (nullable = true)\n",
            " |    |-- cep: string (nullable = true)\n",
            " |    |-- cidade: string (nullable = true)\n",
            " |    |-- estado: string (nullable = true)\n",
            " |    |-- latitude: double (nullable = true)\n",
            " |    |-- longitude: double (nullable = true)\n",
            " |    |-- pais: string (nullable = true)\n",
            " |    |-- rua: string (nullable = true)\n",
            " |    |-- zona: string (nullable = true)\n",
            " |-- id: string (nullable = true)\n",
            " |-- quartos: integer (nullable = true)\n",
            " |-- suites: integer (nullable = true)\n",
            " |-- tipo_anuncio: string (nullable = true)\n",
            " |-- tipo_unidade: string (nullable = true)\n",
            " |-- tipo_uso: string (nullable = true)\n",
            " |-- vaga: integer (nullable = true)\n",
            " |-- valores: array (nullable = true)\n",
            " |    |-- element: struct (containsNull = true)\n",
            " |    |    |-- condominio: string (nullable = true)\n",
            " |    |    |-- iptu: string (nullable = true)\n",
            " |    |    |-- tipo: string (nullable = true)\n",
            " |    |    |-- valor: string (nullable = true)\n",
            " |-- bairro: string (nullable = true)\n",
            " |-- zona: string (nullable = true)\n",
            "\n"
          ]
        }
      ]
    },
    {
      "cell_type": "code",
      "source": [
        "valores = anuncio.select('valores')\n",
        "\n",
        "valores.printSchema()"
      ],
      "metadata": {
        "colab": {
          "base_uri": "https://localhost:8080/"
        },
        "id": "9l9JQiLmv9tp",
        "outputId": "797e74d7-6fac-42e5-a250-29bbfa1e0db6"
      },
      "execution_count": 254,
      "outputs": [
        {
          "output_type": "stream",
          "name": "stdout",
          "text": [
            "root\n",
            " |-- valores: array (nullable = true)\n",
            " |    |-- element: struct (containsNull = true)\n",
            " |    |    |-- condominio: string (nullable = true)\n",
            " |    |    |-- iptu: string (nullable = true)\n",
            " |    |    |-- tipo: string (nullable = true)\n",
            " |    |    |-- valor: string (nullable = true)\n",
            "\n"
          ]
        }
      ]
    },
    {
      "cell_type": "markdown",
      "source": [
        "Podemos observar que os valores são do tipo array, ou seja, uma lista que contém elementos. Estes elementos são dicionários com as informações de `condominio`, `iptu`, `tipo`, e `valor`\n",
        "\n",
        "Nesse contexto, transforme os dados da coluna valores em colunas separadas."
      ],
      "metadata": {
        "id": "ljVaRYYTv86S"
      }
    },
    {
      "cell_type": "code",
      "source": [
        "# salvando infomações para possibilidades futuras\n",
        "valores = valores \\\n",
        "    .withColumn('condominio', anuncio['valores']['condominio'][0]) \\\n",
        "    .withColumn('iptu', anuncio['valores']['iptu'][0]) \\\n",
        "    .withColumn('tipo', anuncio['valores']['tipo'][0]) \\\n",
        "    .withColumn('valor', anuncio['valores']['valor'][0])\n",
        "\n",
        "valores.limit(5).show()"
      ],
      "metadata": {
        "colab": {
          "base_uri": "https://localhost:8080/"
        },
        "id": "w1TKeX2-ziq2",
        "outputId": "650b1399-f604-41c4-9764-6cada7ebda26"
      },
      "execution_count": 255,
      "outputs": [
        {
          "output_type": "stream",
          "name": "stdout",
          "text": [
            "+--------------------+----------+----+-----+-----+\n",
            "|             valores|condominio|iptu| tipo|valor|\n",
            "+--------------------+----------+----+-----+-----+\n",
            "|[{260, 107, Venda...|       260| 107|Venda|10000|\n",
            "|[{260, 107, Venda...|       260| 107|Venda|10000|\n",
            "|[{null, 1613, Ven...|      null|1613|Venda|10000|\n",
            "|[{80, null, Venda...|        80|null|Venda|10000|\n",
            "|[{0, 0, Venda, 50...|         0|   0|Venda| 5000|\n",
            "+--------------------+----------+----+-----+-----+\n",
            "\n"
          ]
        }
      ]
    },
    {
      "cell_type": "code",
      "source": [
        "anuncio = anuncio \\\n",
        "    .withColumn('condominio', anuncio['valores']['condominio'][0]) \\\n",
        "    .withColumn('iptu', anuncio['valores']['iptu'][0]) \\\n",
        "    .withColumn('tipo', anuncio['valores']['tipo'][0]) \\\n",
        "    .withColumn('valor', anuncio['valores']['valor'][0])\n",
        "\n",
        "anuncio.limit(5).show()"
      ],
      "metadata": {
        "colab": {
          "base_uri": "https://localhost:8080/"
        },
        "id": "YwfFPWykvKw1",
        "outputId": "f3513d60-b5b7-42ae-bbe0-9999e821eea7"
      },
      "execution_count": 256,
      "outputs": [
        {
          "output_type": "stream",
          "name": "stdout",
          "text": [
            "+-----+----------+---------+---------+--------------------+--------------------+--------------------+-------+------+------------+------------+-----------+----+--------------------+--------------+------------+----------+----+-----+-----+\n",
            "|andar|area_total|area_util|banheiros|     caracteristicas|            endereco|                  id|quartos|suites|tipo_anuncio|tipo_unidade|   tipo_uso|vaga|             valores|        bairro|        zona|condominio|iptu| tipo|valor|\n",
            "+-----+----------+---------+---------+--------------------+--------------------+--------------------+-------+------+------------+------------+-----------+----+--------------------+--------------+------------+----------+----+-----+-----+\n",
            "|    0|      null|       16|        0|                  []|{Centro, 20061003...|47d553e0-79f2-4a4...|      0|     0|       Usado|      Outros|  Comercial|   1|[{260, 107, Venda...|        Centro|Zona Central|       260| 107|Venda|10000|\n",
            "|    0|      null|       14|        0|                  []|{Centro, 20051040...|b6ffbae1-17f6-487...|      0|  null|       Usado|      Outros|  Comercial|   0|[{260, 107, Venda...|        Centro|Zona Central|       260| 107|Venda|10000|\n",
            "|    0|      1026|     1026|        0|                  []|{Maria da Graça, ...|1fb030a5-9e3e-4a1...|      0|  null|       Usado|      Outros|  Comercial|   0|[{null, 1613, Ven...|Maria da Graça|  Zona Norte|      null|1613|Venda|10000|\n",
            "|    0|       120|      120|        0|[Portão eletrônic...|{Campo Grande, 23...|ac6cb348-69d6-45a...|      0|  null|       Usado|      Outros|Residencial|null|[{80, null, Venda...|  Campo Grande|  Zona Oeste|        80|null|Venda|10000|\n",
            "|    0|         3|        3|        0|                  []|{São Cristóvão, 2...|e032b908-ef42-4d4...|      0|  null|       Usado|      Outros|Residencial|null|[{0, 0, Venda, 50...| São Cristóvão|  Zona Norte|         0|   0|Venda| 5000|\n",
            "+-----+----------+---------+---------+--------------------+--------------------+--------------------+-------+------+------------+------------+-----------+----+--------------------+--------------+------------+----------+----+-----+-----+\n",
            "\n"
          ]
        }
      ]
    },
    {
      "cell_type": "markdown",
      "source": [
        "## Realizando filtro na coluna `valores.tipo`"
      ],
      "metadata": {
        "id": "9DYzoa_C1o7t"
      }
    },
    {
      "cell_type": "code",
      "source": [
        "print('Valores distintos na coluna \"tipo\":')\n",
        "anuncio.select('tipo').distinct().show()"
      ],
      "metadata": {
        "colab": {
          "base_uri": "https://localhost:8080/"
        },
        "id": "qNTOJwTN7gA1",
        "outputId": "02135c2a-cf9a-4357-f73b-f2a0df557419"
      },
      "execution_count": 257,
      "outputs": [
        {
          "output_type": "stream",
          "name": "stdout",
          "text": [
            "Valores distintos na coluna \"tipo\":\n",
            "+-------+\n",
            "|   tipo|\n",
            "+-------+\n",
            "|Aluguel|\n",
            "|  Venda|\n",
            "+-------+\n",
            "\n"
          ]
        }
      ]
    },
    {
      "cell_type": "code",
      "source": [
        "n_linhas_venda = anuncio.filter('tipo == \"Venda\"').count()\n",
        "print(f'O dataset possui {n_linhas_venda} imoveis a venda')"
      ],
      "metadata": {
        "colab": {
          "base_uri": "https://localhost:8080/"
        },
        "id": "eOWxleyo2BBF",
        "outputId": "a78acee4-1e33-41b6-872d-558f8e2a8340"
      },
      "execution_count": 258,
      "outputs": [
        {
          "output_type": "stream",
          "name": "stdout",
          "text": [
            "O dataset possui 88272 imoveis a venda\n"
          ]
        }
      ]
    },
    {
      "cell_type": "code",
      "source": [
        "print('Visualizando as linhas \"Venda\" na coluna \"tipo\":')\n",
        "anuncio.filter('tipo == \"Venda\"').limit(5).show()"
      ],
      "metadata": {
        "colab": {
          "base_uri": "https://localhost:8080/"
        },
        "id": "8tjMSWZ2-xat",
        "outputId": "fe1c9282-a61f-4bde-de51-25bf067f1f79"
      },
      "execution_count": 259,
      "outputs": [
        {
          "output_type": "stream",
          "name": "stdout",
          "text": [
            "Visualizando as linhas \"Venda\" na coluna \"tipo\":\n",
            "+-----+----------+---------+---------+--------------------+--------------------+--------------------+-------+------+------------+------------+-----------+----+--------------------+--------------+------------+----------+----+-----+-----+\n",
            "|andar|area_total|area_util|banheiros|     caracteristicas|            endereco|                  id|quartos|suites|tipo_anuncio|tipo_unidade|   tipo_uso|vaga|             valores|        bairro|        zona|condominio|iptu| tipo|valor|\n",
            "+-----+----------+---------+---------+--------------------+--------------------+--------------------+-------+------+------------+------------+-----------+----+--------------------+--------------+------------+----------+----+-----+-----+\n",
            "|    0|      null|       16|        0|                  []|{Centro, 20061003...|47d553e0-79f2-4a4...|      0|     0|       Usado|      Outros|  Comercial|   1|[{260, 107, Venda...|        Centro|Zona Central|       260| 107|Venda|10000|\n",
            "|    0|      null|       14|        0|                  []|{Centro, 20051040...|b6ffbae1-17f6-487...|      0|  null|       Usado|      Outros|  Comercial|   0|[{260, 107, Venda...|        Centro|Zona Central|       260| 107|Venda|10000|\n",
            "|    0|      1026|     1026|        0|                  []|{Maria da Graça, ...|1fb030a5-9e3e-4a1...|      0|  null|       Usado|      Outros|  Comercial|   0|[{null, 1613, Ven...|Maria da Graça|  Zona Norte|      null|1613|Venda|10000|\n",
            "|    0|       120|      120|        0|[Portão eletrônic...|{Campo Grande, 23...|ac6cb348-69d6-45a...|      0|  null|       Usado|      Outros|Residencial|null|[{80, null, Venda...|  Campo Grande|  Zona Oeste|        80|null|Venda|10000|\n",
            "|    0|         3|        3|        0|                  []|{São Cristóvão, 2...|e032b908-ef42-4d4...|      0|  null|       Usado|      Outros|Residencial|null|[{0, 0, Venda, 50...| São Cristóvão|  Zona Norte|         0|   0|Venda| 5000|\n",
            "+-----+----------+---------+---------+--------------------+--------------------+--------------------+-------+------+------------+------------+-----------+----+--------------------+--------------+------------+----------+----+-----+-----+\n",
            "\n"
          ]
        }
      ]
    },
    {
      "cell_type": "markdown",
      "source": [
        "## Salvando o arquivo"
      ],
      "metadata": {
        "id": "X9nPREDr_JGa"
      }
    },
    {
      "cell_type": "code",
      "source": [
        "%%time\n",
        "anuncio.write.parquet(\n",
        "    path= '/content/drive/MyDrive/InsightPlaces/dados/anuncio_tratado_parquet',\n",
        "    mode= 'overwrite')"
      ],
      "metadata": {
        "colab": {
          "base_uri": "https://localhost:8080/"
        },
        "id": "MSyRSp0w_rsF",
        "outputId": "2af64ebe-06e7-4be7-df25-06e07af1765e"
      },
      "execution_count": 260,
      "outputs": [
        {
          "output_type": "stream",
          "name": "stdout",
          "text": [
            "CPU times: user 33.4 ms, sys: 9.55 ms, total: 42.9 ms\n",
            "Wall time: 4.3 s\n"
          ]
        }
      ]
    },
    {
      "cell_type": "markdown",
      "source": [
        "### Salvando formato CSV"
      ],
      "metadata": {
        "id": "oqwaBlaaEKsk"
      }
    },
    {
      "cell_type": "markdown",
      "source": [
        "* Obs: para salvar como arquivo CSV é necessario moodificarmos o Type da coluna `caracteristicas` e realizar um drop nas colunas `endereco` e `valores`"
      ],
      "metadata": {
        "id": "y_sMgzgIPtfm"
      }
    },
    {
      "cell_type": "code",
      "source": [
        "from pyspark.sql.types import StringType"
      ],
      "metadata": {
        "id": "jkv0TqEmO0wo"
      },
      "execution_count": 261,
      "outputs": []
    },
    {
      "cell_type": "code",
      "source": [
        "anuncio.select('caracteristicas').printSchema()"
      ],
      "metadata": {
        "colab": {
          "base_uri": "https://localhost:8080/"
        },
        "id": "Jb26GUaQGTzd",
        "outputId": "e3f5f372-9a2d-4987-c63b-827d7f40cec1"
      },
      "execution_count": 262,
      "outputs": [
        {
          "output_type": "stream",
          "name": "stdout",
          "text": [
            "root\n",
            " |-- caracteristicas: array (nullable = true)\n",
            " |    |-- element: string (containsNull = true)\n",
            "\n"
          ]
        }
      ]
    },
    {
      "cell_type": "code",
      "source": [
        "anuncio = anuncio.withColumn('caracteristicas', anuncio['caracteristicas'].cast(StringType()))\n",
        "anuncio.select('caracteristicas').printSchema()"
      ],
      "metadata": {
        "colab": {
          "base_uri": "https://localhost:8080/"
        },
        "id": "JNMKoR-bFlPt",
        "outputId": "c72a277d-a81e-4954-d042-311bba3fafc7"
      },
      "execution_count": 264,
      "outputs": [
        {
          "output_type": "stream",
          "name": "stdout",
          "text": [
            "root\n",
            " |-- caracteristicas: string (nullable = true)\n",
            "\n"
          ]
        }
      ]
    },
    {
      "cell_type": "code",
      "source": [
        "anuncio = anuncio.drop('endereco')\n",
        "anuncio = anuncio.drop('valores')\n",
        "\n",
        "anuncio.printSchema()"
      ],
      "metadata": {
        "colab": {
          "base_uri": "https://localhost:8080/"
        },
        "id": "mLUSMwEiENaX",
        "outputId": "a895c334-40af-4d39-ce78-7869f175e5ad"
      },
      "execution_count": 265,
      "outputs": [
        {
          "output_type": "stream",
          "name": "stdout",
          "text": [
            "root\n",
            " |-- andar: long (nullable = true)\n",
            " |-- area_total: integer (nullable = true)\n",
            " |-- area_util: integer (nullable = true)\n",
            " |-- banheiros: integer (nullable = true)\n",
            " |-- caracteristicas: string (nullable = true)\n",
            " |-- id: string (nullable = true)\n",
            " |-- quartos: integer (nullable = true)\n",
            " |-- suites: integer (nullable = true)\n",
            " |-- tipo_anuncio: string (nullable = true)\n",
            " |-- tipo_unidade: string (nullable = true)\n",
            " |-- tipo_uso: string (nullable = true)\n",
            " |-- vaga: integer (nullable = true)\n",
            " |-- bairro: string (nullable = true)\n",
            " |-- zona: string (nullable = true)\n",
            " |-- condominio: string (nullable = true)\n",
            " |-- iptu: string (nullable = true)\n",
            " |-- tipo: string (nullable = true)\n",
            " |-- valor: string (nullable = true)\n",
            "\n"
          ]
        }
      ]
    },
    {
      "cell_type": "code",
      "source": [
        "%%time\n",
        "anuncio.write.format(\"csv\").save('/content/drive/MyDrive/InsightPlaces/dados/anuncio_tratado_csv')"
      ],
      "metadata": {
        "colab": {
          "base_uri": "https://localhost:8080/"
        },
        "id": "Am4pxWlC_7T0",
        "outputId": "1903f5c0-eca2-4cd8-aa99-05e8a8fb1b8c"
      },
      "execution_count": 266,
      "outputs": [
        {
          "output_type": "stream",
          "name": "stdout",
          "text": [
            "CPU times: user 36.9 ms, sys: 3.43 ms, total: 40.3 ms\n",
            "Wall time: 4.69 s\n"
          ]
        }
      ]
    },
    {
      "cell_type": "code",
      "source": [],
      "metadata": {
        "id": "vnmqoc9uA-k8"
      },
      "execution_count": null,
      "outputs": []
    }
  ],
  "metadata": {
    "kernelspec": {
      "display_name": "Python 3.9.13 64-bit (microsoft store)",
      "language": "python",
      "name": "python3"
    },
    "language_info": {
      "codemirror_mode": {
        "name": "ipython",
        "version": 3
      },
      "file_extension": ".py",
      "mimetype": "text/x-python",
      "name": "python",
      "nbconvert_exporter": "python",
      "pygments_lexer": "ipython3",
      "version": "3.9.13"
    },
    "orig_nbformat": 4,
    "vscode": {
      "interpreter": {
        "hash": "26da86705137f909ff2c13f515a05823cf2bbca0cdc334cac9431992890b41f1"
      }
    },
    "colab": {
      "provenance": []
    }
  },
  "nbformat": 4,
  "nbformat_minor": 0
}